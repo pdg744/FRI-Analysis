{
 "cells": [
  {
   "cell_type": "markdown",
   "id": "989e89cd-6c96-4ceb-8508-44e9abb478a8",
   "metadata": {},
   "source": [
    "# RISC Zero Soundness Analysis\n",
    "\n",
    "The goal is to concretely compute the overall error estimate $\\varepsilon_{\\text{IOP}}$ from the [[RISC Zero](https://www.risczero.com/proof-system-in-detail.pdf)] spec.\n",
    "\n",
    "Let's begin by defining some global constants, which depend only on the proof system. These are all taken directly from the spec, with the exception of `h` and `L`, which we obtained by inspecting [the open-source code](https://github.com/risc0/risc0)."
   ]
  },
  {
   "cell_type": "code",
   "execution_count": 2,
   "id": "8560da35-9398-4050-9370-b50163cc0030",
   "metadata": {},
   "outputs": [],
   "source": [
    "import math\n",
    "\n",
    "k = 2  # negative log of the rate.\n",
    "rho = 1 / (1 << k)  # rate.\n",
    "h = 18  # log of the trace length. this value refers to the chess example.\n",
    "H = 1 << h  # domain size.\n",
    "D = H / rho  # domain size, after low-degree extension.\n",
    "e = 4  # field extension degree.\n",
    "p = (1 << 32) - (1 << 27) + 1  # field characteristic: Baby Bear prime.\n",
    "F = math.pow(p, e)  # extension field size.\n",
    "C = 16 + 222 + 36  # number of control, data, and accumulation columns, respectively. retrieved from `circuit.get_taps()`, etc.\n",
    "L = C + 4  # number of polynomials which ultimately appear in the FRI batch. we need to add 4 extra columns, for the \"segment polynomials\".\n",
    "s = 50  # number of FRI queries."
   ]
  },
  {
   "cell_type": "markdown",
   "id": "5bfad65b-f562-40b3-9ec3-91111ac2c4bc",
   "metadata": {},
   "source": [
    "The parameter `m` below is the \"Johnson parameter\"; see [[Haböck](https://eprint.iacr.org/2022/1216.pdf)]. This one is subtle, since it doesn't appear directly in the protocol at all; rather, it only appears in the soundness estimates. We have chosen it to here _optimize_ the number of bits of provable security achieved. We comment on this further below."
   ]
  },
  {
   "cell_type": "code",
   "execution_count": 3,
   "id": "ee27ec72-0457-4276-b8c2-8997bbf70ba4",
   "metadata": {},
   "outputs": [],
   "source": [
    "m = 16\n",
    "alpha = (1 + 1 / (2 * m)) * math.sqrt(rho)\n",
    "theta = 1 - alpha"
   ]
  },
  {
   "cell_type": "markdown",
   "id": "4057a312-4b94-4335-ac37-957dd4e60a9a",
   "metadata": {},
   "source": [
    "### Provable Soundness\n",
    "\n",
    "The below error terms reflect the _proven_ / known soundness, and derive from Theorem 1.2 of [[Proximity Gaps](https://eprint.iacr.org/2020/654.pdf)]. The below expressions are based on [[Haböck](https://eprint.iacr.org/2022/1216.pdf)] and [[RISC Zero](https://www.risczero.com/proof-system-in-detail.pdf)], which are in agreement."
   ]
  },
  {
   "cell_type": "code",
   "execution_count": 4,
   "id": "6c8f38de-8b73-4ea9-9899-b799f3bbec80",
   "metadata": {},
   "outputs": [],
   "source": [
    "e_proximity_gap = math.pow(m + 1/2, 7) / (3 * math.pow(rho, 3/2)) * math.pow(D, 2) / F\n",
    "e_FRI_constant = (L - 1/2) * e_proximity_gap + (2 * m + 1) * (D + 1) * 16 * math.floor((h + 2) / 4 - 2) / (math.sqrt(rho) * F)\n",
    "e_FRI_queries = math.pow(1 - theta, s)\n",
    "e_FRI = e_FRI_constant + e_FRI_queries"
   ]
  },
  {
   "cell_type": "markdown",
   "id": "0f79c02b-97ab-4c30-932a-fb79c566dbc6",
   "metadata": {},
   "source": [
    "In the next couple terms, we'll need the Guruswami–Sudan list-size quantity $L^+$ from [[Haböck](https://eprint.iacr.org/2022/1216.pdf)]. Note that there is a bit of notational confusion here; the RISC Zero spec uses the letter $\\mathsf{L}$ to refer to _both_ the number of columns $L$ _and_ to the Guruswami–Sudan list size $L^+$. Of course these are different quantities (with unfortunately similar names).\n",
    "\n",
    "There's a further subtlety. In order for the proof of [[Haböck](https://eprint.iacr.org/2022/1216.pdf), Theorem 8] to go through, we need to apply FRI with proximity parameter $\\theta < 1 - \\sqrt{\\rho^+}$ (note the +!). In particular, we can't choose `m` _too_ large, or else $\\theta := 1 - \\sqrt{\\rho} \\cdot \\left( 1 + \\frac{1}{2 \\cdot m} \\right)$ will become larger than $1 - \\sqrt{\\rho^+}$, and the key step in that theorem will fail. Specifically, the relevant _configuration's_ distance from Reed–Solomon code $\\mathsf{RS}_{k^+}(K, D)$ over the function field $K := F(Z)$ will exceed the Johnson bound of that code. For our parameters, this doesn't happen until `m = 131073`, so we have plenty of room.\n",
    "\n",
    "Separately, when we calculate $L^+$, we need to use a _different_ `m` than the one up above. Specifically, we need to use $m^+$, say, where $m^+$ is chosen sufficiently large that $\\theta \\leq 1 - \\sqrt{\\rho^+} \\cdot \\left( 1 + \\frac{1}{2 \\cdot m^+} \\right)$ holds. This fact is not explicit in [[Haböck](https://eprint.iacr.org/2022/1216.pdf), Theorem 8], and appears to have been an oversight.\n",
    "\n",
    "Let's calculate a minimal suitable $m^+$:"
   ]
  },
  {
   "cell_type": "code",
   "execution_count": 5,
   "id": "e78cd879-d6ed-45be-9456-f85169e63531",
   "metadata": {},
   "outputs": [
    {
     "data": {
      "text/plain": [
       "17"
      ]
     },
     "execution_count": 5,
     "metadata": {},
     "output_type": "execute_result"
    }
   ],
   "source": [
    "rho_plus = (H + 2) / D  # modified rate of \"extension code\" in function field; controls the agreement we actually need\n",
    "assert theta < 1 - math.sqrt(rho_plus)  # make sure `m` isn't too large.\n",
    "m_plus = math.ceil(1 / (2 * (alpha / math.sqrt(rho_plus) - 1)))\n",
    "assert theta <= 1 - math.sqrt(rho_plus) * (1 + 1 / (2 * m_plus))\n",
    "m_plus"
   ]
  },
  {
   "cell_type": "markdown",
   "id": "2588c027-5b1a-4b47-b4f1-cd3a967ce171",
   "metadata": {},
   "source": [
    "Thus right now, we only get a difference of 1 between $m$ and $m^+$, but this becomes much more significant as $\\theta$ asymptotically approaches $1 - \\sqrt{\\rho^+}$!"
   ]
  },
  {
   "cell_type": "code",
   "execution_count": 6,
   "id": "90d79d1c-c022-4362-81f7-adcb5c62c25c",
   "metadata": {},
   "outputs": [
    {
     "data": {
      "text/plain": [
       "-47.49519784058304"
      ]
     },
     "execution_count": 6,
     "metadata": {},
     "output_type": "execute_result"
    }
   ],
   "source": [
    "L_plus = (m_plus + 1/2) / math.sqrt(rho_plus)  # note the use of m_plus here.\n",
    "\n",
    "e_ALI = L_plus * C / F\n",
    "e_DEEP = L_plus * (4 * (H + 1) + (H - 1)) / (F - H - D)\n",
    "e_PLONK = e * 5 * H / F  # 5 comes from n_{σ_{mem}} == 5.\n",
    "e_PLOOKUP = e * 15 * H / F  # n_{σ_{bytes}} == 15.\n",
    "\n",
    "e_IOP = e_FRI + e_ALI + e_DEEP + e_PLONK + e_PLOOKUP\n",
    "math.log(e_IOP, 2)"
   ]
  },
  {
   "cell_type": "markdown",
   "id": "4a1e1c41-3611-4911-a9c9-0a04b5ab58c5",
   "metadata": {},
   "source": [
    "Thus we appear get around ~47 bits of provable security, overall. Note that our choice `m = 16` actually optimizes this number. Indeed, the results go through for _each possible_ `m`; thus, we are free to choose `m` so as to make the result as good as possible. This is a tradeoff, for various reasons. Indeed, as `m` grows, `e_FRI_constant` gets higher (worse), but `e_FRI_queries` gets lower (better).\n",
    "\n",
    "The individual values are collected in the table below:"
   ]
  },
  {
   "cell_type": "code",
   "execution_count": 7,
   "id": "7765dd3b-5aea-4a62-ac11-b4e80245d426",
   "metadata": {},
   "outputs": [
    {
     "data": {
      "text/html": [
       "<div>\n",
       "<style scoped>\n",
       "    .dataframe tbody tr th:only-of-type {\n",
       "        vertical-align: middle;\n",
       "    }\n",
       "\n",
       "    .dataframe tbody tr th {\n",
       "        vertical-align: top;\n",
       "    }\n",
       "\n",
       "    .dataframe thead th {\n",
       "        text-align: right;\n",
       "    }\n",
       "</style>\n",
       "<table border=\"1\" class=\"dataframe\">\n",
       "  <thead>\n",
       "    <tr style=\"text-align: right;\">\n",
       "      <th></th>\n",
       "      <th>Term</th>\n",
       "      <th>log_2(P[err])</th>\n",
       "    </tr>\n",
       "  </thead>\n",
       "  <tbody>\n",
       "    <tr>\n",
       "      <th>0</th>\n",
       "      <td>e_FRI_constant</td>\n",
       "      <td>-49.974645</td>\n",
       "    </tr>\n",
       "    <tr>\n",
       "      <th>1</th>\n",
       "      <td>e_FRI_queries</td>\n",
       "      <td>-47.780294</td>\n",
       "    </tr>\n",
       "    <tr>\n",
       "      <th>2</th>\n",
       "      <td>e_ALI</td>\n",
       "      <td>-114.589476</td>\n",
       "    </tr>\n",
       "    <tr>\n",
       "      <th>3</th>\n",
       "      <td>e_DEEP</td>\n",
       "      <td>-102.365576</td>\n",
       "    </tr>\n",
       "    <tr>\n",
       "      <th>4</th>\n",
       "      <td>e_PLONK</td>\n",
       "      <td>-105.494857</td>\n",
       "    </tr>\n",
       "    <tr>\n",
       "      <th>5</th>\n",
       "      <td>e_PLOOKUP</td>\n",
       "      <td>-103.909895</td>\n",
       "    </tr>\n",
       "  </tbody>\n",
       "</table>\n",
       "</div>"
      ],
      "text/plain": [
       "             Term  log_2(P[err])\n",
       "0  e_FRI_constant     -49.974645\n",
       "1   e_FRI_queries     -47.780294\n",
       "2           e_ALI    -114.589476\n",
       "3          e_DEEP    -102.365576\n",
       "4         e_PLONK    -105.494857\n",
       "5       e_PLOOKUP    -103.909895"
      ]
     },
     "execution_count": 7,
     "metadata": {},
     "output_type": "execute_result"
    }
   ],
   "source": [
    "import numpy as np\n",
    "import pandas as pd\n",
    "\n",
    "def show_table():\n",
    "    err_terms = pd.DataFrame(\n",
    "        [\n",
    "            [\"e_FRI_constant\", e_FRI_constant],\n",
    "            [\"e_FRI_queries\", e_FRI_queries],\n",
    "            [\"e_ALI\", e_ALI],\n",
    "            [\"e_DEEP\", e_DEEP],\n",
    "            [\"e_PLONK\", e_PLONK],\n",
    "            [\"e_PLOOKUP\", e_PLOOKUP],\n",
    "        ],\n",
    "        columns=[\"Term\", \"P[err]\"]\n",
    "    )\n",
    "    err_terms[\"log_2(P[err])\"] = np.log2(err_terms[\"P[err]\"])\n",
    "    err_terms = err_terms.drop(columns=\"P[err]\")\n",
    "    return err_terms\n",
    "show_table()"
   ]
  },
  {
   "cell_type": "markdown",
   "id": "106b9624-20cf-4785-bea8-dd16d1108fc4",
   "metadata": {},
   "source": [
    "### Conjectured Soundness\n",
    "\n",
    "Actually, it's not hard to see that, with the rate `rho = 1/4`, it will not be possible to achieve more than 50 bits of soundness (barring an increase in the number of trials `s = 50`), _even_ assuming Conjecture 8.4 of [[Proximity Gaps](https://eprint.iacr.org/2020/654.pdf)]. Indeed, with these parameters, we have $\\log_2 \\left( \\epsilon_{\\text{FRI-queries}} \\right) = s \\cdot \\log_2 \\left( \\left( 1 + \\frac{1}{2 \\cdot m} \\right) \\cdot \\frac{1}{2} \\right) \\geq -s$, where the latter holds even in the limit as $m \\rightarrow \\infty$. Paradoxically, the larger proximity parameters Conjecture 8.4 makes possible—i.e., in the range $\\theta \\geq 1 - \\sqrt{\\rho}$—don't help us here, _unless_ we also make further conjectures about the list-decodability of Reed–Solomon codes up to capacity. Sure enough, the proof of [[Haböck](https://eprint.iacr.org/2022/1216.pdf), Theorem 8] relies on the list-decodability of the Reed–Solomon code $\\mathsf{RS}_{k^+}(K, D)$, where $K := F(Z)$ is the infinite function field over $F$ in one indeterminate. This latter list decodability will fail as soon as $\\theta \\geq 1 - \\sqrt{\\rho^+}$.\n",
    "\n",
    "Thus, to make progress, we need to additionally assume [[DEEP-FRI](https://eprint.iacr.org/2019/336.pdf), Conjecture 2.3]. As a digression, we note that this conjecture seems highly unlikely to be proven soon; in fact, our best-known explicit constructions of capacity-achieving codes are far more complicated than standard Reed–Solomon codes; we refer example to [[Guruswami](https://www.nowpublishers.com/article/Details/TCS-007)].\n",
    "\n",
    "In any case, let's proceed, now assuming [[Proximity Gaps](https://eprint.iacr.org/2020/654.pdf), Conjecture 8.4] _and_ [[DEEP-FRI](https://eprint.iacr.org/2019/336.pdf), Conjecture 2.3]. The latter conjecture in turn depends on an unspecified constant `C_rho`, depending only on `rho`."
   ]
  },
  {
   "cell_type": "code",
   "execution_count": 8,
   "id": "8ec2c439-347c-4bdd-8379-56a4b7f5774c",
   "metadata": {},
   "outputs": [
    {
     "data": {
      "text/plain": [
       "20972321"
      ]
     },
     "execution_count": 8,
     "metadata": {},
     "output_type": "execute_result"
    }
   ],
   "source": [
    "c_1 = 1  # first parameter in Proximity Gaps, Conjecture 8.4\n",
    "c_2 = 1  # second parameter in Proximity Gaps, Conjecture 8.4\n",
    "C_rho = 1  # unpsecified exponent parameter in DEEP-FRI, Conjecture 2.3\n",
    "\n",
    "epsilon = 0.05  # also called \"eta\" in Proximity Gaps\n",
    "theta = 1 - rho - epsilon  # new proximity parameter! overwrites old one.\n",
    "assert theta < 1 - rho_plus  # can't exceed the capacity of RS_{k⁺}(K, D).\n",
    "epsilon_plus = 1 - rho_plus - theta\n",
    "e_proximity_gap = 1 / math.pow(epsilon * rho, c_1) * L * math.pow(D, c_2) / F  # new value, from Proximity Gaps, Conjecture 8.4\n",
    "e_FRI_constant = (L - 1/2) * e_proximity_gap + (2 * m + 1) * (D + 1) * 16 * math.floor((h + 2) / 4 - 2) / (math.sqrt(rho) * F)  # add folding error\n",
    "e_FRI_queries = math.pow(1 - theta, s)  # now using the new, better theta!\n",
    "e_FRI = e_FRI_constant + e_FRI_queries\n",
    "\n",
    "L_plus = math.ceil(math.pow(D / epsilon_plus, C_rho))\n",
    "L_plus"
   ]
  },
  {
   "cell_type": "markdown",
   "id": "db66b87c-3431-4ac0-8ed7-7738bbf04aa0",
   "metadata": {},
   "source": [
    "We note that this is a huge number; indeed, in the setting of [[DEEP-FRI](https://eprint.iacr.org/2019/336.pdf), Conjecture 2.3], the list size depends on the domain size `D`. This wasn't true for the original list size `L_plus` above; indeed, the Guruswami–Sudan list size depends only on the rate and the proximity parameter, but not on the message or block length! As a separate note, since we need to perform list decoding in $\\mathsf{RS}_{k^+}(K, D)$, we need to compute the list size $L^+$ based on $\\varepsilon^+$, not on $\\varepsilon$.\n",
    "\n",
    "We're implicitly using [[DEEP-FRI](https://eprint.iacr.org/2019/336.pdf), Conjecture 2.3], here, in order for the analogue of [[Haböck](https://eprint.iacr.org/2022/1216.pdf), Thm. 8] to go through. Indeed, [[DEEP-FRI](https://eprint.iacr.org/2019/336.pdf), Conjecture 2.3] here allows us to assert that, even at the proximity parameter $\\theta = 1 - \\rho - \\varepsilon$—as long as $\\theta < 1 - \\rho^+$ holds—we still get list-decodability in $\\mathsf{RS}_{k^+}(K, D)$, where the list size $L^+$, just calculated above, again comes from [[DEEP-FRI](https://eprint.iacr.org/2019/336.pdf), Conjecture 2.3]. Let's proceed:"
   ]
  },
  {
   "cell_type": "code",
   "execution_count": 9,
   "id": "cac8363a-570f-48df-8c2d-f9a27684cc5c",
   "metadata": {},
   "outputs": [
    {
     "data": {
      "text/plain": [
       "-82.77888526958118"
      ]
     },
     "execution_count": 9,
     "metadata": {},
     "output_type": "execute_result"
    }
   ],
   "source": [
    "e_ALI = L_plus * C / F\n",
    "e_DEEP = L_plus * (4 * (H + 1) + (H - 1)) / (F - H - D)\n",
    "e_PLONK = e * 5 * H / F  # 5 comes from n_{σ_{mem}} == 5.\n",
    "e_PLOOKUP = e * 15 * H / F  # n_{σ_{bytes}} == 15.\n",
    "\n",
    "e_IOP = e_FRI + e_ALI + e_DEEP + e_PLONK + e_PLOOKUP\n",
    "math.log(e_IOP, 2)"
   ]
  },
  {
   "cell_type": "markdown",
   "id": "d17c81a1-27b0-40e6-bb2e-bc42a48c8bd3",
   "metadata": {},
   "source": [
    "Thus we can see that we're getting much better security under the various conjectures. Note that this soundness is very sensitive to $\\varepsilon$. (Slimmer $\\varepsilon$ means _higher_ $\\theta$, and hence better soundness from the queries; but it also means bigger list size, and hence worse soundness for DEEP-ALI.) We have chosen $\\varepsilon$ to make this soudness as high as possible.\n",
    "\n",
    "The soudness is also very sensitive to the unspecified exponents `C_rho`, `c_1` and `c_2` in the conjectures. For example, if we increase `C_rho` to 2, we see that the amount of security we'd get drops to ~59 bits (though can in turn be improved to 60 bits by relaxing $\\varepsilon$ to 0.1).\n",
    "\n",
    "For ease of reading, we've collected all of the relevant soundness levels in the table below."
   ]
  },
  {
   "cell_type": "code",
   "execution_count": 10,
   "id": "c698ed85-d79f-485d-9af1-96fcf8992b43",
   "metadata": {},
   "outputs": [
    {
     "data": {
      "text/html": [
       "<div>\n",
       "<style scoped>\n",
       "    .dataframe tbody tr th:only-of-type {\n",
       "        vertical-align: middle;\n",
       "    }\n",
       "\n",
       "    .dataframe tbody tr th {\n",
       "        vertical-align: top;\n",
       "    }\n",
       "\n",
       "    .dataframe thead th {\n",
       "        text-align: right;\n",
       "    }\n",
       "</style>\n",
       "<table border=\"1\" class=\"dataframe\">\n",
       "  <thead>\n",
       "    <tr style=\"text-align: right;\">\n",
       "      <th></th>\n",
       "      <th>Term</th>\n",
       "      <th>log_2(P[err])</th>\n",
       "    </tr>\n",
       "  </thead>\n",
       "  <tbody>\n",
       "    <tr>\n",
       "      <th>0</th>\n",
       "      <td>e_FRI_constant</td>\n",
       "      <td>-85.258832</td>\n",
       "    </tr>\n",
       "    <tr>\n",
       "      <th>1</th>\n",
       "      <td>e_FRI_queries</td>\n",
       "      <td>-86.848280</td>\n",
       "    </tr>\n",
       "    <tr>\n",
       "      <th>2</th>\n",
       "      <td>e_ALI</td>\n",
       "      <td>-95.396770</td>\n",
       "    </tr>\n",
       "    <tr>\n",
       "      <th>3</th>\n",
       "      <td>e_DEEP</td>\n",
       "      <td>-83.172871</td>\n",
       "    </tr>\n",
       "    <tr>\n",
       "      <th>4</th>\n",
       "      <td>e_PLONK</td>\n",
       "      <td>-105.494857</td>\n",
       "    </tr>\n",
       "    <tr>\n",
       "      <th>5</th>\n",
       "      <td>e_PLOOKUP</td>\n",
       "      <td>-103.909895</td>\n",
       "    </tr>\n",
       "  </tbody>\n",
       "</table>\n",
       "</div>"
      ],
      "text/plain": [
       "             Term  log_2(P[err])\n",
       "0  e_FRI_constant     -85.258832\n",
       "1   e_FRI_queries     -86.848280\n",
       "2           e_ALI     -95.396770\n",
       "3          e_DEEP     -83.172871\n",
       "4         e_PLONK    -105.494857\n",
       "5       e_PLOOKUP    -103.909895"
      ]
     },
     "execution_count": 10,
     "metadata": {},
     "output_type": "execute_result"
    }
   ],
   "source": [
    "show_table()"
   ]
  }
 ],
 "metadata": {
  "kernelspec": {
   "display_name": "Python 3 (ipykernel)",
   "language": "python",
   "name": "python3"
  },
  "language_info": {
   "codemirror_mode": {
    "name": "ipython",
    "version": 3
   },
   "file_extension": ".py",
   "mimetype": "text/x-python",
   "name": "python",
   "nbconvert_exporter": "python",
   "pygments_lexer": "ipython3",
   "version": "3.11.3"
  }
 },
 "nbformat": 4,
 "nbformat_minor": 5
}
